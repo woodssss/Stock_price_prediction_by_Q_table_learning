{
 "cells": [
  {
   "cell_type": "code",
   "execution_count": 122,
   "metadata": {
    "collapsed": true,
    "pycharm": {
     "is_executing": false
    }
   },
   "outputs": [
    {
     "name": "stdout",
     "text": [
      "[[5. 7. 1. 7. 9. 3. 3. 3. 2. 8. 0. 0. 9. 5. 0. 2. 8. 7. 1. 9.]]\n"
     ],
     "output_type": "stream"
    }
   ],
   "source": [
    "import numpy as np\n",
    "import pandas as pd\n",
    "\n",
    "\n",
    "l= 20\n",
    "\n",
    "data = np.random.rand(1,l)*100\n",
    "\n",
    "d_min, d_max = np.min(data), np.max(data)\n",
    "\n",
    "n_level = 10\n",
    "\n",
    "data_lvl = np.around([i%((d_max-d_min)/n_level) for i in data])\n",
    "print(data_lvl)\n",
    "\n",
    "actions = [1,2,3]\n",
    "\n",
    "q_table = pd.DataFrame( columns= actions, dtype=float)"
   ]
  },
  {
   "cell_type": "code",
   "execution_count": 123,
   "outputs": [
    {
     "data": {
      "text/plain": "Empty DataFrame\nColumns: [1, 2, 3]\nIndex: []",
      "text/html": "<div>\n<style scoped>\n    .dataframe tbody tr th:only-of-type {\n        vertical-align: middle;\n    }\n\n    .dataframe tbody tr th {\n        vertical-align: top;\n    }\n\n    .dataframe thead th {\n        text-align: right;\n    }\n</style>\n<table border=\"1\" class=\"dataframe\">\n  <thead>\n    <tr style=\"text-align: right;\">\n      <th></th>\n      <th>1</th>\n      <th>2</th>\n      <th>3</th>\n    </tr>\n  </thead>\n  <tbody>\n  </tbody>\n</table>\n</div>"
     },
     "metadata": {},
     "output_type": "execute_result",
     "execution_count": 123
    }
   ],
   "source": [
    "q_table\n"
   ],
   "metadata": {
    "collapsed": false,
    "pycharm": {
     "name": "#%%\n",
     "is_executing": false
    }
   }
  },
  {
   "cell_type": "code",
   "execution_count": 124,
   "outputs": [
    {
     "data": {
      "text/plain": "             1    2    3\n(1, 2, 1)  0.0  0.0  0.0",
      "text/html": "<div>\n<style scoped>\n    .dataframe tbody tr th:only-of-type {\n        vertical-align: middle;\n    }\n\n    .dataframe tbody tr th {\n        vertical-align: top;\n    }\n\n    .dataframe thead th {\n        text-align: right;\n    }\n</style>\n<table border=\"1\" class=\"dataframe\">\n  <thead>\n    <tr style=\"text-align: right;\">\n      <th></th>\n      <th>1</th>\n      <th>2</th>\n      <th>3</th>\n    </tr>\n  </thead>\n  <tbody>\n    <tr>\n      <th>(1, 2, 1)</th>\n      <td>0.0</td>\n      <td>0.0</td>\n      <td>0.0</td>\n    </tr>\n  </tbody>\n</table>\n</div>"
     },
     "metadata": {},
     "output_type": "execute_result",
     "execution_count": 124
    }
   ],
   "source": [
    "tt = pd.DataFrame([[0]*len(actions)], index=[tuple([1,2,1])], columns=actions,dtype=float)\n",
    "tt"
   ],
   "metadata": {
    "collapsed": false,
    "pycharm": {
     "name": "#%%\n",
     "is_executing": false
    }
   }
  },
  {
   "cell_type": "code",
   "execution_count": 128,
   "outputs": [
    {
     "name": "stdout",
     "text": [
      "5\n"
     ],
     "output_type": "stream"
    }
   ],
   "source": [
    "tt.append(pd.DataFrame([[0]*len(actions)], index=[tuple([1,5])], columns=actions,dtype=float))\n",
    "qq=pd.DataFrame([[1,5,5]], index=[tuple([1,5])], columns=actions,dtype=float)\n",
    "qq\n",
    "tt = pd.concat([tt,qq])\n",
    "s1 = tuple([1,5])\n",
    "tt.loc[[s1], actions[1]]\n",
    "print(s1[-1])"
   ],
   "metadata": {
    "collapsed": false,
    "pycharm": {
     "name": "#%%\n",
     "is_executing": false
    }
   }
  },
  {
   "cell_type": "code",
   "execution_count": 145,
   "outputs": [
    {
     "name": "stdout",
     "text": [
      "1.0\n"
     ],
     "output_type": "stream"
    }
   ],
   "source": [
    "cc=pd.DataFrame(  columns=actions,dtype=float)\n",
    "#cc = pd.concat([cc,tt])\n",
    "s1 = tuple([1,5])\n",
    "ll = tt.loc[[s1],:].idxmax(axis=1)[0]\n",
    "print(tt.loc[[s1],1][0])\n",
    "#print(ll.idxmax(axis=1))\n",
    "#print(np.random.choice(tt.loc[[s1],:]))\n",
    "#ll = tt.loc[[s1],:].max(axis = 1)\n",
    "#ll\n",
    "#print(np.random.choice(actions))\n"
   ],
   "metadata": {
    "collapsed": false,
    "pycharm": {
     "name": "#%%\n",
     "is_executing": false
    }
   }
  },
  {
   "cell_type": "code",
   "execution_count": 70,
   "outputs": [
    {
     "name": "stdout",
     "text": [
      "max is  5.0\nd\n"
     ],
     "output_type": "stream"
    }
   ],
   "source": [
    "temp_max = ll.max(axis = 1)\n",
    "print('max is ', temp_max[0])\n",
    "print(np.random.choice(ll.idxmax(axis = 1)))\n",
    "#print(ll[ll==temp_max[0]].idxmax(axis =1))"
   ],
   "metadata": {
    "collapsed": false,
    "pycharm": {
     "name": "#%%\n",
     "is_executing": false
    }
   }
  },
  {
   "cell_type": "code",
   "execution_count": 120,
   "outputs": [
    {
     "name": "stdout",
     "text": [
      "[1, 2, 3, True]\n"
     ],
     "output_type": "stream"
    }
   ],
   "source": [
    "a=[1,2,3]\n",
    "done = True if len(a)==3 else False\n",
    "(a.append(done))\n",
    "print(a)\n"
   ],
   "metadata": {
    "collapsed": false,
    "pycharm": {
     "name": "#%%\n",
     "is_executing": false
    }
   }
  },
  {
   "cell_type": "code",
   "execution_count": 146,
   "outputs": [
    {
     "name": "stdout",
     "text": [
      "/Users/wuzhexu/Desktop/RL_finace_new\n"
     ],
     "output_type": "stream"
    }
   ],
   "source": [
    "import os\n",
    "path = os.getcwd()\n",
    "print(path)\n",
    "\n"
   ],
   "metadata": {
    "collapsed": false,
    "pycharm": {
     "name": "#%%\n",
     "is_executing": false
    }
   }
  },
  {
   "cell_type": "code",
   "execution_count": null,
   "outputs": [],
   "source": [
    "\n"
   ],
   "metadata": {
    "collapsed": false,
    "pycharm": {
     "name": "#%%\n"
    }
   }
  }
 ],
 "metadata": {
  "kernelspec": {
   "display_name": "Python 3",
   "language": "python",
   "name": "python3"
  },
  "language_info": {
   "codemirror_mode": {
    "name": "ipython",
    "version": 2
   },
   "file_extension": ".py",
   "mimetype": "text/x-python",
   "name": "python",
   "nbconvert_exporter": "python",
   "pygments_lexer": "ipython2",
   "version": "2.7.6"
  },
  "pycharm": {
   "stem_cell": {
    "cell_type": "raw",
    "source": [],
    "metadata": {
     "collapsed": false
    }
   }
  }
 },
 "nbformat": 4,
 "nbformat_minor": 0
}